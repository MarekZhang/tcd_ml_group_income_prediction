{
  "nbformat": 4,
  "nbformat_minor": 0,
  "metadata": {
    "accelerator": "GPU",
    "colab": {
      "name": "Salary_Pred_v2.ipynb",
      "provenance": [],
      "collapsed_sections": [],
      "toc_visible": true
    },
    "kernelspec": {
      "display_name": "Python 3",
      "language": "python",
      "name": "python3"
    },
    "language_info": {
      "codemirror_mode": {
        "name": "ipython",
        "version": 3
      },
      "file_extension": ".py",
      "mimetype": "text/x-python",
      "name": "python",
      "nbconvert_exporter": "python",
      "pygments_lexer": "ipython3",
      "version": "3.6.8"
    }
  },
  "cells": [
    {
      "cell_type": "code",
      "metadata": {
        "id": "72UmQQ3i6f3N",
        "colab_type": "code",
        "colab": {}
      },
      "source": [
        ""
      ],
      "execution_count": 0,
      "outputs": []
    },
    {
      "cell_type": "code",
      "metadata": {
        "colab_type": "code",
        "id": "e_Mp2BgFaqOH",
        "colab": {}
      },
      "source": [
        "import numpy as np\n",
        "import pandas as pd\n",
        "import matplotlib.pyplot as plt\n",
        "import lightgbm as lgb\n",
        "from sklearn.preprocessing import LabelEncoder\n",
        "from sklearn.model_selection import train_test_split\n",
        "import os\n",
        "\n",
        "%matplotlib inline\n",
        "%config InlineBackend.figure_format = 'retina'"
      ],
      "execution_count": 0,
      "outputs": []
    },
    {
      "cell_type": "code",
      "metadata": {
        "colab_type": "code",
        "id": "3qep-XN3cG1Y",
        "colab": {}
      },
      "source": [
        "from google.colab import drive\n",
        "drive.mount('/content/drive')"
      ],
      "execution_count": 0,
      "outputs": []
    },
    {
      "cell_type": "code",
      "metadata": {
        "colab_type": "code",
        "id": "0W5hOo_QcTSp",
        "colab": {}
      },
      "source": [
        "from google.colab import files\n",
        "uploaded = files.upload()"
      ],
      "execution_count": 0,
      "outputs": []
    },
    {
      "cell_type": "code",
      "metadata": {
        "colab_type": "code",
        "id": "rQ-cSMP9aqON",
        "colab": {}
      },
      "source": [
        "import io\n",
        "Income_train_Set = pd.read_csv('tcd-ml-1920-group-income-train.csv') # index_col = 0把instance当作索引，否则会另外建立索引\n",
        "Income_Pred_Set = pd.read_csv('tcd-ml-1920-group-income-test.csv')"
      ],
      "execution_count": 0,
      "outputs": []
    },
    {
      "cell_type": "markdown",
      "metadata": {
        "id": "Qh-bMod1ldND",
        "colab_type": "text"
      },
      "source": [
        "# New Section"
      ]
    },
    {
      "cell_type": "code",
      "metadata": {
        "colab_type": "code",
        "id": "chLQtYbVaqOP",
        "colab": {}
      },
      "source": [
        "Income_train_Set.head()"
      ],
      "execution_count": 0,
      "outputs": []
    },
    {
      "cell_type": "code",
      "metadata": {
        "colab_type": "code",
        "id": "4y7K8xcjaqOR",
        "colab": {}
      },
      "source": [
        "_new_column = {'Year of Record':'Year',\n",
        "               'Housing Situation':'Housing',\n",
        "               'Crime Level in the City of Employement':'Crime',\n",
        "               'Work Experience in Current Job [years]':'Experience',\n",
        "               'Satisfation with employer':'Satisfaction',\n",
        "               'Size of City':'City',\n",
        "               'University Degree':'Degree',\n",
        "               'Wears Glasses':'Glasses',\n",
        "               'Hair Color':'Hair',\n",
        "               'Body Height [cm]':'Height',\n",
        "               'Yearly Income in addition to Salary (e.g. Rental Income)':'Add_Income',\n",
        "               'Total Yearly Income [EUR]': 'Income'}\n",
        "Income_train_Set = Income_train_Set.rename(_new_column, axis = 1)\n",
        "Income_Pred_Set = Income_Pred_Set.rename(_new_column, axis = 1)"
      ],
      "execution_count": 0,
      "outputs": []
    },
    {
      "cell_type": "code",
      "metadata": {
        "colab_type": "code",
        "id": "CMe2irqKaqOT",
        "colab": {}
      },
      "source": [
        "Income_train_Set.head()\n",
        "Income_Pred_Set.head()"
      ],
      "execution_count": 0,
      "outputs": []
    },
    {
      "cell_type": "code",
      "metadata": {
        "id": "8-FTjd3YIDhV",
        "colab_type": "code",
        "colab": {}
      },
      "source": [
        "type(Income_train_Set['Add_Income'])"
      ],
      "execution_count": 0,
      "outputs": []
    },
    {
      "cell_type": "code",
      "metadata": {
        "colab_type": "code",
        "id": "GwbFPHXsaqOV",
        "colab": {}
      },
      "source": [
        "#remove EUR in Income column\n",
        "Income_train_Set['Add_Income'] = Income_train_Set['Add_Income'].map(lambda x : x.replace('EUR', ''))\n",
        "Income_Pred_Set['Add_Income'] = Income_Pred_Set['Add_Income'].map(lambda x : x.replace('EUR', ''))"
      ],
      "execution_count": 0,
      "outputs": []
    },
    {
      "cell_type": "code",
      "metadata": {
        "colab_type": "code",
        "id": "Qh__YlMeaqOX",
        "colab": {}
      },
      "source": [
        "#convert Object to float\n",
        "Income_train_Set['Add_Income'] = pd.to_numeric(Income_train_Set['Add_Income'])\n",
        "Income_Pred_Set['Add_Income'] = pd.to_numeric(Income_Pred_Set['Add_Income'])"
      ],
      "execution_count": 0,
      "outputs": []
    },
    {
      "cell_type": "code",
      "metadata": {
        "colab_type": "code",
        "id": "OBDFksTbaqOZ",
        "colab": {}
      },
      "source": [
        "Income_Pred_Set.info()"
      ],
      "execution_count": 0,
      "outputs": []
    },
    {
      "cell_type": "code",
      "metadata": {
        "colab_type": "code",
        "id": "NEDVcu6VaqOb",
        "colab": {}
      },
      "source": [
        "#test.plot.scatter(x = 'Instance', y = 'Income')"
      ],
      "execution_count": 0,
      "outputs": []
    },
    {
      "cell_type": "code",
      "metadata": {
        "colab_type": "code",
        "id": "EIkBNV5daqOe",
        "colab": {}
      },
      "source": [
        "#Rand_Set_1 = Income_train_Set.sample(frac = .1) randomly select rows"
      ],
      "execution_count": 0,
      "outputs": []
    },
    {
      "cell_type": "code",
      "metadata": {
        "colab_type": "code",
        "id": "K5ipqvd0aqOg",
        "colab": {}
      },
      "source": [
        "Income_train_Set.info()"
      ],
      "execution_count": 0,
      "outputs": []
    },
    {
      "cell_type": "markdown",
      "metadata": {
        "colab_type": "text",
        "id": "uGgrhjsNaqOi"
      },
      "source": [
        "#### IQR"
      ]
    },
    {
      "cell_type": "code",
      "metadata": {
        "colab_type": "code",
        "id": "p5z-S2snaqOi",
        "colab": {}
      },
      "source": [
        "def subset_by_iqr(df, column, whisker_width=1.1):\n",
        "    \"\"\"Remove outliers from a dataframe by column, including optional \n",
        "       whiskers, removing rows for which the column value are \n",
        "       less than Q1-1.5IQR or greater than Q3+1.5IQR.\n",
        "    Args:\n",
        "        df (`:obj:pd.DataFrame`): A pandas dataframe to subset\n",
        "        column (str): Name of the column to calculate the subset from.\n",
        "        whisker_width (float): Optional, loosen the IQR filter by a\n",
        "                               factor of `whisker_width` * IQR.\n",
        "    Returns:\n",
        "        (`:obj:pd.DataFrame`): Filtered dataframe\n",
        "    \"\"\"\n",
        "    # Calculate Q1, Q2 and IQR\n",
        "    q1 = df[column].quantile(0.25)                 \n",
        "    q3 = df[column].quantile(0.75)\n",
        "    iqr = q3 - q1\n",
        "    # Apply filter with respect to IQR, including optional whiskers\n",
        "    filter = (df[column] >= q1 - whisker_width*iqr) & (df[column] <= q3 + whisker_width*iqr)\n",
        "    return df.loc[filter]                  "
      ],
      "execution_count": 0,
      "outputs": []
    },
    {
      "cell_type": "markdown",
      "metadata": {
        "id": "uPc2kQYOePIa",
        "colab_type": "text"
      },
      "source": [
        ""
      ]
    },
    {
      "cell_type": "code",
      "metadata": {
        "colab_type": "code",
        "id": "OuHVafiHaqOk",
        "colab": {}
      },
      "source": [
        "Income_train_Set = subset_by_iqr(Income_train_Set, 'Income', whisker_width=4.0)"
      ],
      "execution_count": 0,
      "outputs": []
    },
    {
      "cell_type": "code",
      "metadata": {
        "colab_type": "code",
        "id": "e-NJdAWLaqOm",
        "colab": {}
      },
      "source": [
        "Income_train_Set.plot.scatter(x = 'Instance', y = 'Income')"
      ],
      "execution_count": 0,
      "outputs": []
    },
    {
      "cell_type": "markdown",
      "metadata": {
        "colab_type": "text",
        "id": "DaOIeZSYaqOo"
      },
      "source": [
        "#### Important for de-concat----------------"
      ]
    },
    {
      "cell_type": "code",
      "metadata": {
        "colab_type": "code",
        "id": "m1rO9SdUaqOo",
        "colab": {}
      },
      "source": [
        " Income_train_Set.shape ## Important for de-concat"
      ],
      "execution_count": 0,
      "outputs": []
    },
    {
      "cell_type": "markdown",
      "metadata": {
        "colab_type": "text",
        "id": "g8xSIdloaqOq"
      },
      "source": [
        "#### ---------------------------------"
      ]
    },
    {
      "cell_type": "code",
      "metadata": {
        "colab_type": "code",
        "id": "Lv49LGDWaqOr",
        "colab": {}
      },
      "source": [
        "Concat_Set = pd.concat([Income_train_Set,Income_Pred_Set],ignore_index=True)"
      ],
      "execution_count": 0,
      "outputs": []
    },
    {
      "cell_type": "code",
      "metadata": {
        "colab_type": "code",
        "id": "owbExyR7aqOs",
        "colab": {}
      },
      "source": [
        "from sklearn.impute import SimpleImputer\n",
        "# fill nan strategy: most_frequent value\n",
        "'''\n",
        "Year = Income_train_Set['Hair'].value_counts()   #median();mean();value_counts\n",
        "Year\n",
        "most_frequent:\n",
        "    *Gender:male\n",
        "    *Degree:Bachelor\n",
        "    *Hair:Black\n",
        "    *country:Honduras\n",
        "'''"
      ],
      "execution_count": 0,
      "outputs": []
    },
    {
      "cell_type": "code",
      "metadata": {
        "colab_type": "code",
        "id": "TEv28untaqOu",
        "colab": {}
      },
      "source": [
        "dt = Concat_Set.dtypes\n"
      ],
      "execution_count": 0,
      "outputs": []
    },
    {
      "cell_type": "code",
      "metadata": {
        "colab_type": "code",
        "id": "ixD1hs5faqOw",
        "colab": {}
      },
      "source": [
        "fillna_mode = SimpleImputer(strategy = \"most_frequent\" ) #fill nan with most frequent"
      ],
      "execution_count": 0,
      "outputs": []
    },
    {
      "cell_type": "code",
      "metadata": {
        "colab_type": "code",
        "id": "RGpfphSgaqOx",
        "colab": {}
      },
      "source": [
        "Year = Concat_Set['Year'].values.reshape(-1,1)\n",
        "Concat_Set['Year'] = fillna_mode.fit_transform(Year)"
      ],
      "execution_count": 0,
      "outputs": []
    },
    {
      "cell_type": "code",
      "metadata": {
        "colab_type": "code",
        "id": "xvvPaqSOaqO1",
        "colab": {}
      },
      "source": [
        "fillna_dict = {'Satisfaction':'Average',\n",
        "               'Gender':'male',\n",
        "               'Country': 'Honduras',\n",
        "               'Profession': 'payment analyst',\n",
        "               'Degree': 'Bachelor',\n",
        "               'Hair': 'Black'\n",
        "               }"
      ],
      "execution_count": 0,
      "outputs": []
    },
    {
      "cell_type": "code",
      "metadata": {
        "colab_type": "code",
        "id": "lknhcOZEaqO4",
        "colab": {}
      },
      "source": [
        "for key in fillna_dict.keys():\n",
        "    Concat_Set[key] = Concat_Set[key].fillna(fillna_dict[key])\n",
        "# using sklearn module get longer runtime"
      ],
      "execution_count": 0,
      "outputs": []
    },
    {
      "cell_type": "code",
      "metadata": {
        "colab_type": "code",
        "id": "-xzKc7eNaqO9",
        "colab": {}
      },
      "source": [
        "Concat_Set.isnull().sum()"
      ],
      "execution_count": 0,
      "outputs": []
    },
    {
      "cell_type": "code",
      "metadata": {
        "colab_type": "code",
        "id": "EBKiNFOAaqO_",
        "colab": {}
      },
      "source": [
        "def create_cat_con(df,cats,cons,normalize=True):\n",
        "    for i,cat in enumerate(cats):\n",
        "        vc = df[cat].value_counts(dropna=False, normalize=normalize).to_dict() #normalize = true 显示不同value占比\n",
        "        nm = cat + '_FE_FULL' \n",
        "        df[nm] = df[cat].map(vc) \n",
        "        df[nm] = df[nm].astype('float32')\n",
        "        for j,con in enumerate(cons):\n",
        "            new_col = cat +'_'+ con\n",
        "            print('timeblock frequency encoding:', new_col)\n",
        "            df[new_col] = df[cat].astype(str)+'_'+df[con].astype(str)  \n",
        "            temp_df = df[new_col]\n",
        "            fq_encode = temp_df.value_counts(normalize=True).to_dict()\n",
        "            df[new_col] = df[new_col].map(fq_encode)\n",
        "            df[new_col] = df[new_col]/df[cat+'_FE_FULL']\n",
        "    return df"
      ],
      "execution_count": 0,
      "outputs": []
    },
    {
      "cell_type": "code",
      "metadata": {
        "colab_type": "code",
        "id": "ShbRTGBCaqPA",
        "colab": {}
      },
      "source": [
        "cats = ['Year', 'Housing', 'Experience',\n",
        "        'Satisfaction', 'Gender', 'Age',\n",
        "        'Country', 'Profession', 'Degree', 'Glasses', 'Hair']\n",
        "cons = ['Crime', 'City', 'Height', 'Add_Income']\n",
        "\n",
        "data = create_cat_con(Concat_Set,cats,cons)\n",
        "'done'"
      ],
      "execution_count": 0,
      "outputs": []
    },
    {
      "cell_type": "code",
      "metadata": {
        "colab_type": "code",
        "id": "7aedEobQaqPC",
        "colab": {}
      },
      "source": [
        "for col in Income_train_Set.dtypes[Income_train_Set.dtypes == 'object'].index.tolist():\n",
        "    feat_le = LabelEncoder()\n",
        "    feat_le.fit(Concat_Set[col].unique().astype(str))\n",
        "    Concat_Set[col] = feat_le.transform(data[col].astype(str))\n",
        "    \n",
        "del_col = set(['Income','Instance'])\n",
        "features_col =  list(set(Concat_Set) - del_col)\n",
        "\n"
      ],
      "execution_count": 0,
      "outputs": []
    },
    {
      "cell_type": "code",
      "metadata": {
        "colab_type": "code",
        "id": "yn5dIrPiaqPD",
        "colab": {}
      },
      "source": [
        "X_train,X_test = Concat_Set[features_col].iloc[:1025718],data[features_col].iloc[1025719:]\n",
        "Y_train = data['Income'].iloc[:1025718]\n",
        "X_test_id = data['Instance'].iloc[1025719:]\n",
        "x_train,x_val,y_train,y_val = train_test_split(X_train,Y_train,test_size=0.2,random_state=1234)"
      ],
      "execution_count": 0,
      "outputs": []
    },
    {
      "cell_type": "code",
      "metadata": {
        "colab_type": "code",
        "id": "wPhnIIrOaqPE",
        "colab": {}
      },
      "source": [
        "parameters = {\n",
        "              'max_depth': [15, 20, 25, 30, 35],\n",
        "              'learning_rate': [0.01, 0.02, 0.05, 0.1, 0.15],\n",
        "              'feature_fraction': [0.6, 0.7, 0.8, 0.9, 0.95],\n",
        "              'bagging_fraction': [0.6, 0.7, 0.8, 0.9, 0.95],\n",
        "              'bagging_freq': [2, 4, 5, 6, 8],\n",
        "              'lambda_l1': [0, 0.1, 0.4, 0.5, 0.6],\n",
        "              'lambda_l2': [0, 10, 15, 35, 40],\n",
        "              'cat_smooth': [1, 10, 15, 20, 35]}\n",
        "params = {\n",
        "          'max_depth': 35,\n",
        "          'learning_rate': 0.02,\n",
        "          \"boosting\": \"gbdt\",\n",
        "          \"bagging_seed\": 10000,\n",
        "          \"metric\": 'mae',\n",
        "          \"verbosity\": -1,\n",
        "          \"subsample\" : 0.3,\n",
        "          \"lambda_l1\" : 0.6,\n",
        "          \"lambda_l2\" : 10,\n",
        "          \"cat_smooth\": 1\n",
        "         }\n",
        "trn_data = lgb.Dataset(x_train, label=y_train)\n",
        "val_data = lgb.Dataset(x_val, label=y_val)\n",
        "# test_data = lgb.Dataset(X_test)\n",
        "clf = lgb.train(params, trn_data, 100000, valid_sets = [trn_data, val_data], verbose_eval=1000, early_stopping_rounds=500)\n",
        "pre_test_lgb = clf.predict(X_test)\n",
        "'done'\n",
        "\n",
        "\n",
        "sub_df = pd.DataFrame({'Instance':X_test_id,\n",
        "                       'Income':pre_test_lgb})\n",
        "sub_df.to_csv(\"predictions.csv\",index=False)\n",
        "files.download('predictions.csv') "
      ],
      "execution_count": 0,
      "outputs": []
    },
    {
      "cell_type": "code",
      "metadata": {
        "colab_type": "code",
        "id": "s9goxXj2aqPG",
        "colab": {}
      },
      "source": [
        "from sklearn.metrics import mean_squared_error\n",
        "pre_val_lgb = clf.predict(x_val)\n",
        "val_mse = mean_squared_error(y_val,pre_val_lgb)\n",
        "val_rmse = np.sqrt(val_mse)\n",
        "val_rmse"
      ],
      "execution_count": 0,
      "outputs": []
    },
    {
      "cell_type": "code",
      "metadata": {
        "colab_type": "code",
        "id": "SYhuZqkyaqPH",
        "colab": {}
      },
      "source": [
        "#Raw_Data.plot.scatter(x = 'Instance', y = 'Income') == \n",
        "#JW: salary_data = Income_train_Set[Income_train_Set['Income'] < 400000]"
      ],
      "execution_count": 0,
      "outputs": []
    },
    {
      "cell_type": "code",
      "metadata": {
        "colab_type": "code",
        "id": "49I9Xkb5g2Wz",
        "colab": {}
      },
      "source": [
        ""
      ],
      "execution_count": 0,
      "outputs": []
    },
    {
      "cell_type": "code",
      "metadata": {
        "colab_type": "code",
        "id": "2otZ4rG2aqPJ",
        "colab": {}
      },
      "source": [
        "sub_df = pd.DataFrame({'Instance':X_test_id,\n",
        "                       'Income':pre_test_lgb})\n",
        "sub_df.head()"
      ],
      "execution_count": 0,
      "outputs": []
    },
    {
      "cell_type": "code",
      "metadata": {
        "colab_type": "code",
        "id": "OCEHFlieaqPL",
        "colab": {}
      },
      "source": [
        "sub_df.to_csv(\"sub191015_6.csv\",index=False)\n",
        "'done'"
      ],
      "execution_count": 0,
      "outputs": []
    },
    {
      "cell_type": "code",
      "metadata": {
        "colab_type": "code",
        "id": "R-FSS9ciaqPN",
        "colab": {}
      },
      "source": [
        "import io\n",
        "files.download('sub191015_6.csv') "
      ],
      "execution_count": 0,
      "outputs": []
    },
    {
      "cell_type": "code",
      "metadata": {
        "colab_type": "code",
        "id": "Yv7YytOIaqPP",
        "colab": {}
      },
      "source": [
        ""
      ],
      "execution_count": 0,
      "outputs": []
    },
    {
      "cell_type": "code",
      "metadata": {
        "colab_type": "code",
        "id": "_978nv8caqPQ",
        "colab": {}
      },
      "source": [
        ""
      ],
      "execution_count": 0,
      "outputs": []
    },
    {
      "cell_type": "code",
      "metadata": {
        "colab_type": "code",
        "id": "ucJVkLIsaqPS",
        "colab": {}
      },
      "source": [
        ""
      ],
      "execution_count": 0,
      "outputs": []
    }
  ]
}